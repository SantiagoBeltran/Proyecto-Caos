{
  "nbformat": 4,
  "nbformat_minor": 0,
  "metadata": {
    "colab": {
      "name": "Ruta_Caos.ipynb",
      "provenance": [],
      "collapsed_sections": [],
      "authorship_tag": "ABX9TyMF+nhXMCsq1Y++MW+aymmS",
      "include_colab_link": true
    },
    "kernelspec": {
      "display_name": "Python 3",
      "name": "python3"
    },
    "language_info": {
      "name": "python"
    }
  },
  "cells": [
    {
      "cell_type": "markdown",
      "metadata": {
        "id": "view-in-github",
        "colab_type": "text"
      },
      "source": [
        "<a href=\"https://colab.research.google.com/github/SantiagoBeltran/Proyecto-Caos/blob/main/Ruta_Caos.ipynb\" target=\"_parent\"><img src=\"https://colab.research.google.com/assets/colab-badge.svg\" alt=\"Open In Colab\"/></a>"
      ]
    },
    {
      "cell_type": "markdown",
      "metadata": {
        "id": "RrmA8p0QeV-D"
      },
      "source": [
        "Importación de paquetes en Python"
      ]
    },
    {
      "cell_type": "code",
      "metadata": {
        "colab": {
          "base_uri": "https://localhost:8080/"
        },
        "id": "FDpwwBZSetK-",
        "outputId": "0a544196-8c89-41f9-a6fa-e83248decde0"
      },
      "source": [
        "from matplotlib.pyplot import *\n",
        "from mpl_toolkits import mplot3d\n",
        "from scipy import *\n",
        "from numpy import *\n",
        "from scipy.integrate import odeint\n",
        "from scipy import optimize\n",
        "%pylab inline"
      ],
      "execution_count": null,
      "outputs": [
        {
          "output_type": "stream",
          "text": [
            "Populating the interactive namespace from numpy and matplotlib\n"
          ],
          "name": "stdout"
        },
        {
          "output_type": "stream",
          "text": [
            "/usr/local/lib/python3.7/dist-packages/IPython/core/magics/pylab.py:161: UserWarning: pylab import has clobbered these variables: ['randn', 'ifft', 'draw_if_interactive', 'rand', 'test']\n",
            "`%matplotlib` prevents importing * from pylab and numpy\n",
            "  \"\\n`%matplotlib` prevents importing * from pylab and numpy\"\n"
          ],
          "name": "stderr"
        }
      ]
    },
    {
      "cell_type": "markdown",
      "metadata": {
        "id": "2tXbtwVKfI_x"
      },
      "source": [
        "# Hamiltoniano del sistema\n",
        "En las variables originales\n",
        "$$H_i=\\frac{1}{2}(p_x^2+p_y^2)+\\frac{1}{2}(p_xy-p_yx)+2(x^2+y^2)+\\frac{\\alpha}{4}(\\frac{3}{2}p_x-y)^4$$\n",
        "En las variables transformadas\n",
        "$$H=\\frac{5}{4}(x^2+p_x^2)+\\frac{3}{4}(y^2+p_y^2)+\\frac{1}{4}(y^2+p_y^2)^2+\\frac{\\alpha}{4}(2x-y)^4$$\n",
        "En las variables de ángulo-acción\n",
        "$$H=\\frac{5}{2}I_x+\\frac{3}{2}I_y+I_y^2+\\alpha(2\\sqrt{I_x}\\cos(\\theta_x)-\\sqrt{I_y}\\cos(\\theta_y))^4$$\n"
      ]
    },
    {
      "cell_type": "markdown",
      "metadata": {
        "id": "3SVSEpvlhAZO"
      },
      "source": [
        "# Secciones de Poincaré\n",
        "\n",
        "\n",
        "> La generación de las secciones está basado en el trabajo de Lehmann L (https://stackoverflow.com/questions/48892663/poincare-section-of-a-system-of-second-order-odes).\n",
        "\n",
        "> Las secciones estudiadas se tomaron a energía constante $E=10$. Acontinuaciónse definen las funciones de energía total y las ecuaciones de Euler-Lagrange en las variables transformadas $x$, $y$, $p_x$ y $p_y$,junto a una para $\\alpha$ que se mantiene constante.\n",
        "\n",
        "\n",
        "\n"
      ]
    },
    {
      "cell_type": "code",
      "metadata": {
        "id": "unXgk_RWysQf"
      },
      "source": [
        "ener=10\n",
        "def total_energy(x, y, px, py,alpha):\n",
        "    return (5/4)*(x**2+px**2)+(3/4)*(y**2+py**2)+(1/4)*(y**2+py**2)**2+(alpha/4)*(2*x-y)**4\n",
        "\n",
        "def pqdot(valpair, tval):\n",
        "    # Retorno de las ecuaciones para las derivads temporales de x, y, px, py, y alpha\n",
        "    (x, y, px, py, alpha) = tuple(valpair)\n",
        "    return np.array([(5/2)*px,(3/2)*py+(y**2+py**2)*py,-(5/2)*x-2*alpha*(2*x-y)**3,-(3/2)*y-(y**2+py**2)*y+alpha*(2*x-y)**3,0]).T"
      ],
      "execution_count": null,
      "outputs": []
    },
    {
      "cell_type": "markdown",
      "metadata": {
        "id": "CYc10JgPy25M"
      },
      "source": [
        "Luego, se define la función cuyas entradas son la perturbación $\\alpha$, un valor máximo para $\\theta_{y_0}$, el número $n$ de valores de $\\theta_{y_0}$, y un arreglo de las proporciones de $I_{y_{max}}$. Como resultado se retorna un arreglo de condiciones iniciales $(x,y,p_x,p_y, \\alpha)$ para los distintos ángulos $\\theta_y$ e $I_y$ que salistafacen $E=10$."
      ]
    },
    {
      "cell_type": "code",
      "metadata": {
        "id": "iq5vET5_y2I9"
      },
      "source": [
        "def inicial_cond(alpha, theta_max, n,prop, theta_min=0):\n",
        "  # Condiciones de entrada\n",
        "  c=[]\n",
        "  x=0\n",
        "  m=len(prop)\n",
        "  thetay=np.linspace(theta_min,theta_max,n)\n",
        "\n",
        "  # Cálculo de las condiciones iniciales\n",
        "  for j in range(len(thetay)):\n",
        "    solI = (-(3/2)+np.sqrt((3/2)**2+4*ener*((alpha)*np.cos(thetay[j])**4+1)))/(2*((alpha)*np.cos(thetay[j])**4+1))\n",
        "    I=np.array(prop)*solI\n",
        "    y0=np.sqrt(2*I)*np.cos(thetay[j])\n",
        "    py0=np.sqrt(2*I)*np.sin(thetay[j])\n",
        "    px0=np.zeros(len(y0))\n",
        "    for i in range(len(y0)):\n",
        "      px0[i]=np.sqrt((4/5)*(ener-((3/2)*I[i]+I[i]**2+(alpha)*I[i]**2*np.cos(thetay[j])**4)))\n",
        "    for l in range(len(y0)):\n",
        "      c.append([x,y0[l],px0[l],py0[l],alpha])\n",
        "  return c "
      ],
      "execution_count": null,
      "outputs": []
    },
    {
      "cell_type": "markdown",
      "metadata": {
        "id": "h4oy9iqi098N"
      },
      "source": [
        "Posteriormente se generaliza la función anterior para el cálculo de condiciones iniciales para cada uno de los valores de $\\alpha$. Por esta razón los parámetros dde entrada son los mismos de la función anterior salvo que $\\alpha$ es un arreglo de perturbaciones. Además, se retorna una lista de condiciones iniciales para cada uno de los valores de la perturbación."
      ]
    },
    {
      "cell_type": "code",
      "metadata": {
        "id": "NQ_cdi2A09Ni"
      },
      "source": [
        "def condiciones(alpha, theta_max, n,prop, theta_mn=0):\n",
        "  # Construcción de arreglo de condiciones iniciales\n",
        "  init_cons= []\n",
        "  for k in range(len(alpha)):\n",
        "    c=inicial_cond(alpha[k], theta_max, n,prop, theta_min=theta_mn)\n",
        "    init_cons.append(c)\n",
        "  return init_cons"
      ],
      "execution_count": null,
      "outputs": []
    },
    {
      "cell_type": "markdown",
      "metadata": {
        "id": "3n6gt2SI3p09"
      },
      "source": [
        "También se define una función para los números de embobinado con el fin de mantener trazabilidad de los toros generados en caso integrable. Como entrada se tiene el valor máximo de $\\theta_y$ y el número de valores iniciales de $\\theta_y$ y se retorna un arreglo de números de enrollamiento del caso integrable para las condiciones iniciales."
      ]
    },
    {
      "cell_type": "code",
      "metadata": {
        "id": "e6if3CDY3pJR"
      },
      "source": [
        "def winding_number(theta_max, n, l2):\n",
        "  # Condiciones iniciales\n",
        "  alpha=0\n",
        "  thetay=np.linspace(0,theta_max,n)\n",
        "  wind=np.zeros(len(thetay)*l2)\n",
        "\n",
        "  # Cálculo de los números de embobinado para el caso integrable\n",
        "  for j in range(len(thetay)):\n",
        "    solI = (-(3/2)+np.sqrt((3/2)**2+4*ener*((alpha)*np.cos(thetay[j])**4+1)))/(2*((alpha)*np.cos(thetay[j])**4+1))\n",
        "    I=np.array(prop)*solI\n",
        "    for k in range(len(I)):\n",
        "      wind[len(I)*j+k]=((3/2+2*I[k])/(5/2))\n",
        "  return wind"
      ],
      "execution_count": null,
      "outputs": []
    },
    {
      "cell_type": "markdown",
      "metadata": {
        "id": "jK5JKEKk4tkG"
      },
      "source": [
        "Se define, adicionalmente, una función encargada de la solución de las ecuaciones diferenciales de pqdot, como entrdas se ingresan la lista completa de condiciones iniciales y un arreglo de tiempo y se retornan vectores $(x,y, p_x,p_y, \\alpha)$ para cada uno de los tiempos estudiados."
      ]
    },
    {
      "cell_type": "code",
      "metadata": {
        "id": "sZbbf5x74tCl"
      },
      "source": [
        "def evolucion(init_cons,t):\n",
        "  # Solución de las ecuaciones diferenciales\n",
        "  outs=[]\n",
        "  for l in range(len(init_cons)):\n",
        "    salida= [ odeint(pqdot, con, t, atol=1e-9, rtol=1e-8)  for con in init_cons[l][:len(init_cons[0])] ]\n",
        "    outs.append(salida)\n",
        "    print(\"Se han calculado {} perturbaciones de {}.\".format(l+1,len(init_cons)))\n",
        "  return outs "
      ],
      "execution_count": null,
      "outputs": []
    },
    {
      "cell_type": "markdown",
      "metadata": {
        "id": "RyJ8TvdE6EBp"
      },
      "source": [
        "A continuación se define una función que se encarga de encontrar y retornar los índices de los cortes de las secciones de Poincaré. sus entradas se espera que sean las salidas en el tiempo de $x$ (data) y de $p_x$ (data1)."
      ]
    },
    {
      "cell_type": "code",
      "metadata": {
        "id": "gQQYvSgs4seW"
      },
      "source": [
        "def findcrossings(data, data1):\n",
        "    # Halla los índices en los que ocurre un cambio de signo para x y px>0\n",
        "    prb = list()\n",
        "    for ii in range(len(data)-1):\n",
        "        if (((data[ii] > 0) and (data[ii+1] < 0)) or ((data[ii] < 0) and (data[ii+1] > 0))) and data1[ii] > 0:\n",
        "            prb.append(ii)\n",
        "    return array(prb)"
      ],
      "execution_count": null,
      "outputs": []
    },
    {
      "cell_type": "markdown",
      "metadata": {
        "id": "qfqzFIGP6_c1"
      },
      "source": [
        "Luego, se define la función que halla los cortes en las variables $y, p_y$.  Para ello se tienen como entradas el conjunto de valores evolucionados de $(x,y,p_x,p_y,\\alpha)$ (outs) y el vector de perturbaciones $\\alpha$.\n"
      ]
    },
    {
      "cell_type": "code",
      "metadata": {
        "id": "afJwOe_Tyxx0"
      },
      "source": [
        "def hallar_Cortes(outs,alpha):\n",
        "  # Cálculo de y y py para los cortes\n",
        "  cortes=[]\n",
        "  for l in range(len(outs)):\n",
        "    calpha=[]\n",
        "    for ii in range(len(outs[0])):\n",
        "        xcrossings = findcrossings(outs[l][ii][:,0], outs[l][ii][:,2])\n",
        "        yints = [.5*(outs[l][ii][cross, 1] + outs[l][ii][cross+1, 1]) for cross in xcrossings]\n",
        "        pyints = [.5*(outs[l][ii][cross, 3] + outs[l][ii][cross+1, 3]) for cross in xcrossings]\n",
        "        calpha.append([yints,pyints])\n",
        "    cortes.append(calpha)\n",
        "  return cortes "
      ],
      "execution_count": null,
      "outputs": []
    },
    {
      "cell_type": "markdown",
      "metadata": {
        "id": "JefEA9xz7z0O"
      },
      "source": [
        "En primer lugar se graficaron las secciones de Poincaré para unos determinados valores de números de embobinado en el hamiltoniano integrable, para unos ciertos valores de $\\alpha$ que dejan en evidencia la ruptura de sus toros. Acontinuación se presentan los datos de entrada:"
      ]
    },
    {
      "cell_type": "code",
      "metadata": {
        "colab": {
          "base_uri": "https://localhost:8080/"
        },
        "id": "1GW61dPt8V4P",
        "outputId": "29b39da6-2959-4c33-bc66-fc6c05969c0d"
      },
      "source": [
        "# Valores de la perturbación deseados \n",
        "alpha=np.array([0,0.0002,0.0008,0.002,0.0062,0.014,0.02,0.03,0.064])\n",
        "print(\"Se consideraron las perturbaciones {}.\".format(alpha))\n",
        "\n",
        "# Proporción de Iy máximo deseados \n",
        "prop =np.array([0,1/5,3/10,np.pi/6,sqrt(2)/2,3/(2*(sqrt(5)-1))-3/10])\n",
        "l2=len(prop)\n",
        "print(\"Y se consideraron las proporciones={} de \".format(prop) + r\"Iy máximo\")\n",
        "\n",
        "# Paso temporal \n",
        "t = linspace(0, 1000.0, 100000+1)\n",
        "print(\"Se tomó un paso temporal de {} hasta t={}\".format(t[1]-t[0],1000))\n",
        "\n",
        "# Condiciones para thetay\n",
        "l1=4\n",
        "theta_max=2*np.pi\n"
      ],
      "execution_count": null,
      "outputs": [
        {
          "output_type": "stream",
          "text": [
            "Se consideraron las perturbaciones [0.     0.0002 0.0008 0.002  0.0062 0.014  0.02   0.03   0.064 ].\n",
            "Y se consideraron las proporciones=[0.         0.2        0.3        0.52359878 0.70710678 0.91352549] de Iy máximo\n",
            "Se tomó un paso temporal de 0.01 hasta t=1000\n"
          ],
          "name": "stdout"
        }
      ]
    },
    {
      "cell_type": "markdown",
      "metadata": {
        "id": "KITU8zEU_mQ2"
      },
      "source": [
        "Luego se realiza el cálculo de condiciones iniciales (init_cons), los números de embobinado (winding) y la evolución de las condiciones iniciales (outs):\n"
      ]
    },
    {
      "cell_type": "code",
      "metadata": {
        "colab": {
          "base_uri": "https://localhost:8080/"
        },
        "id": "iy7wAZjI_lav",
        "outputId": "a3a6753c-28ba-494e-b470-3e26a35b1289"
      },
      "source": [
        "# Construcción de las condiciones iniciales\n",
        "init_cons=condiciones(alpha, theta_max, l1,prop)\n",
        "\n",
        "# Cálculo de los números de embobinado\n",
        "winding=winding_number(theta_max, l1, l2) \n",
        "\n",
        "# Evolución de las condiciones iniciales\n",
        "outs=evolucion(init_cons,t)"
      ],
      "execution_count": null,
      "outputs": [
        {
          "output_type": "stream",
          "text": [
            "Se han calculado 1 perturbaciones de 9.\n",
            "Se han calculado 2 perturbaciones de 9.\n",
            "Se han calculado 3 perturbaciones de 9.\n",
            "Se han calculado 4 perturbaciones de 9.\n",
            "Se han calculado 5 perturbaciones de 9.\n",
            "Se han calculado 6 perturbaciones de 9.\n",
            "Se han calculado 7 perturbaciones de 9.\n",
            "Se han calculado 8 perturbaciones de 9.\n",
            "Se han calculado 9 perturbaciones de 9.\n"
          ],
          "name": "stdout"
        }
      ]
    },
    {
      "cell_type": "markdown",
      "metadata": {
        "id": "IKDUvzIVA1i7"
      },
      "source": [
        "Luego se hallan los cortes de la sección de Poincaré:"
      ]
    },
    {
      "cell_type": "code",
      "metadata": {
        "id": "UNmJc8wP_eRB"
      },
      "source": [
        "# Cálculos de los cortes en las secciones\n",
        "cortes=hallar_Cortes(outs,alpha)"
      ],
      "execution_count": null,
      "outputs": []
    },
    {
      "cell_type": "markdown",
      "metadata": {
        "id": "kzZ20HKdBHfw"
      },
      "source": [
        "Gráficas a color de las distintas secciones de Poinacré para las perturbaciones iniciales con convenciones para los números de embobinado."
      ]
    },
    {
      "cell_type": "code",
      "metadata": {
        "id": "fQmBqkLJBDaQ"
      },
      "source": [
        "#Se fijan los colores para cada número de embobinado\n",
        "norm = mpl.colors.Normalize(vmin=winding.min(), vmax=winding.max())\n",
        "cmap = mpl.cm.ScalarMappable(norm=norm, cmap=mpl.cm.jet)\n",
        "cmap.set_array([])\n",
        "\n",
        "#Graficación una a una de las secciones de Poinacré elegidas\n",
        "for l in range(len(alpha)):\n",
        "  fig2 = figure(2, figsize=(8,8))\n",
        "  for ii in range(len(outs[0])):\n",
        "    col=cmap.to_rgba(winding)[ii]\n",
        "    if ii<l2:\n",
        "      scatter(np.array(cortes[l][ii][0]), np.array(cortes[l][ii][1]), s=0.1,color=col, label=r\"$\\Omega={}$\".format(np.round(winding[ii],3)))\n",
        "    else:\n",
        "      scatter(np.array(cortes[l][ii][0]), np.array(cortes[l][ii][1]), s=0.1,color=col)\n",
        "  title(r\"$\\alpha={}$\".format(np.round(alpha[l],4)))\n",
        "  ylabel(\"py\")\n",
        "  xlabel(\"y\") \n",
        "  lgnd = legend(loc=\"lower right\", scatterpoints=1, fontsize=10)\n",
        "  for i in range(l2):\n",
        "    lgnd.legendHandles[i]._sizes = [30]\n",
        "  plt.savefig(\"seccion_Poincare_winding_{}.png\".format(np.round(alpha[l],4)))\n",
        "  plt.show()"
      ],
      "execution_count": null,
      "outputs": []
    },
    {
      "cell_type": "markdown",
      "metadata": {
        "id": "pF9uHDSsB-FV"
      },
      "source": [
        "Cálculo de las fracciones continuadas: Se define una primera función para el cálculo de los términos de fracciones continuadas que se le atribuye a Piotrowski A. recuperada de https://www.bookofproofs.org/branches/continued-fraction-python/ ; y una función que se encarga de deeterminar el error respecto al número generado por Python "
      ]
    },
    {
      "cell_type": "code",
      "metadata": {
        "id": "G8YilWXyB3Cw"
      },
      "source": [
        "# Función encargada de hallar los factores de fracciones continuadas\n",
        "def contFrac(x, k):\n",
        "    cf = []\n",
        "    q = math.floor(x)\n",
        "    cf.append(q)\n",
        "    x = x - q\n",
        "    i = 0\n",
        "    while x != 0 and i < k:\n",
        "        q = math.floor(1 / x)\n",
        "        cf.append(q)\n",
        "        x = 1 / x - q\n",
        "        i = i + 1\n",
        "    return cf\n",
        "\n",
        "# Función que calcula las diferencias con los números generados por Python\n",
        "def frac_approx(x,k):\n",
        "  coef=contFrac(x,k)\n",
        "  if len(coef)==1:\n",
        "    return coef[0]\n",
        "  i=-2\n",
        "  a=1/coef[-1]\n",
        "  while i>-len(coef):\n",
        "    a=1/(coef[i]+a)\n",
        "    i=i-1\n",
        "  return a+coef[0]    \n"
      ],
      "execution_count": null,
      "outputs": []
    },
    {
      "cell_type": "markdown",
      "metadata": {
        "id": "VxNZwLulEMuc"
      },
      "source": [
        "Implementación para los números de embobinado estudiados"
      ]
    },
    {
      "cell_type": "code",
      "metadata": {
        "colab": {
          "base_uri": "https://localhost:8080/"
        },
        "id": "9R7BrbAVDevd",
        "outputId": "f03eaf38-69b8-4f8e-af78-ce8a181d8dc1"
      },
      "source": [
        "# Números de embobinado analizados\n",
        "wind=[0.6,1,6/5,8/5, 3/5+(2/5)*np.pi, 3/5+sqrt(2),3/(sqrt(5)-1)]\n",
        "\n",
        "# Implementación\n",
        "for w in winding[:6]:\n",
        "  print(\"Términos necesarios para que los winding numbers tengan un error de cero computacional\")\n",
        "  j=1\n",
        "  x=10\n",
        "  while x!=0:\n",
        "    x=abs(frac_approx(w,j)-w)\n",
        "    j=j+1\n",
        "  print(\"La sequencia para {} es: {}. Tiene {} términos\".format(round(w,3), contFrac(w,j-1), len(contFrac(w,j-1))))  "
      ],
      "execution_count": null,
      "outputs": [
        {
          "output_type": "stream",
          "text": [
            "Términos necesarios para que los winding numbers tengan un error de cero computacional\n",
            "La sequencia para 0.6 es: [0, 1, 1, 2, 1125899906842624]. Tiene 5 términos\n",
            "Términos necesarios para que los winding numbers tengan un error de cero computacional\n",
            "La sequencia para 1.0 es: [1]. Tiene 1 términos\n",
            "Términos necesarios para que los winding numbers tengan un error de cero computacional\n",
            "La sequencia para 1.2 es: [1, 5]. Tiene 2 términos\n",
            "Términos necesarios para que los winding numbers tengan un error de cero computacional\n",
            "La sequencia para 1.647 es: [1, 1, 1, 1, 5, 24, 1, 3, 3, 1, 1, 1, 22, 7, 4, 1, 6]. Tiene 17 términos\n",
            "Términos necesarios para que los winding numbers tengan un error de cero computacional\n",
            "La sequencia para 2.014 es: [2, 70, 2, 1, 4, 2, 1, 1, 1, 1, 2, 4, 1, 2, 70]. Tiene 15 términos\n",
            "Términos necesarios para que los winding numbers tengan un error de cero computacional\n",
            "La sequencia para 2.427 es: [2, 2, 2, 1, 12, 1, 2, 2, 2, 1, 12, 1, 2, 2, 2, 1, 12, 1, 2]. Tiene 19 términos\n"
          ],
          "name": "stdout"
        }
      ]
    },
    {
      "cell_type": "markdown",
      "metadata": {
        "id": "2G3nX3HQB0tL"
      },
      "source": [
        "Nueva implementación para algunas secciones de Poincaré de interés para un espectro más amplio de proporciones de $I_{y_{max}}$. A continuación se presentan los datos de las perturbaciones:\n"
      ]
    },
    {
      "cell_type": "code",
      "metadata": {
        "colab": {
          "base_uri": "https://localhost:8080/"
        },
        "id": "w9V3WFazE1S6",
        "outputId": "bf0fac99-431f-4527-a1e9-05e08b0e9ada"
      },
      "source": [
        "# Valores de la perturbación deseados \n",
        "alpha=np.array([0.0212,0.0680,0.0753,0.0788,0.0950])\n",
        "print(\"Se consideraron las perturbaciones {}.\".format(alpha))\n",
        "\n",
        "# Proporción de Iy máximo deseados\n",
        "prop =np.linspace(0,0.999,15)\n",
        "l2=len(prop)\n",
        "print(\"Y se consideraron las proporciones={} de \".format(prop) + r\"Iy máximo\")\n",
        "\n",
        "# Paso temporal \n",
        "t = linspace(0, 1000.0, 100000+1)\n",
        "print(\"Se tomó un paso temporal de {} hasta t={}\".format(t[1]-t[0],1000))\n",
        "\n",
        "# Condiciones para thetay\n",
        "l1=4\n",
        "theta_max=2*np.pi"
      ],
      "execution_count": null,
      "outputs": [
        {
          "output_type": "stream",
          "text": [
            "Se consideraron las perturbaciones [0.0212 0.068  0.0753 0.0788 0.095 ].\n",
            "Y se consideraron las proporciones=[0.         0.07135714 0.14271429 0.21407143 0.28542857 0.35678571\n",
            " 0.42814286 0.4995     0.57085714 0.64221429 0.71357143 0.78492857\n",
            " 0.85628571 0.92764286 0.999     ] de Iy máximo\n",
            "Se tomó un paso temporal de 0.01 hasta t=1000\n"
          ],
          "name": "stdout"
        }
      ]
    },
    {
      "cell_type": "markdown",
      "metadata": {
        "id": "FAL0RIZpFYa2"
      },
      "source": [
        "Luego se realiza el cálculo de condiciones iniciales (init_cons), los números de embobinado (winding) y la evolución de las condiciones iniciales (outs):"
      ]
    },
    {
      "cell_type": "code",
      "metadata": {
        "colab": {
          "base_uri": "https://localhost:8080/",
          "height": 340
        },
        "id": "rzr8jZ_uFSzY",
        "outputId": "3aef5d59-485c-49d0-e71f-38aa2d6222d1"
      },
      "source": [
        "# Construcción de las condiciones iniciales\n",
        "init_cons=condiciones(alpha, theta_max, l1,prop)\n",
        "\n",
        "# Cálculo de los números de embobinado\n",
        "winding=winding_number(theta_max, l1, l2) \n",
        "\n",
        "# Evolución de las condiciones iniciales\n",
        "outs=evolucion(init_cons,t)"
      ],
      "execution_count": null,
      "outputs": [
        {
          "output_type": "stream",
          "text": [
            "Se han calculado 1 perturbaciones de 5.\n",
            "Se han calculado 2 perturbaciones de 5.\n"
          ],
          "name": "stdout"
        },
        {
          "output_type": "error",
          "ename": "KeyboardInterrupt",
          "evalue": "ignored",
          "traceback": [
            "\u001b[0;31m---------------------------------------------------------------------------\u001b[0m",
            "\u001b[0;31mKeyboardInterrupt\u001b[0m                         Traceback (most recent call last)",
            "\u001b[0;32m<ipython-input-16-a0410a6d27fc>\u001b[0m in \u001b[0;36m<module>\u001b[0;34m()\u001b[0m\n\u001b[1;32m      6\u001b[0m \u001b[0;34m\u001b[0m\u001b[0m\n\u001b[1;32m      7\u001b[0m \u001b[0;31m# Evolución de las condiciones iniciales\u001b[0m\u001b[0;34m\u001b[0m\u001b[0;34m\u001b[0m\u001b[0;34m\u001b[0m\u001b[0m\n\u001b[0;32m----> 8\u001b[0;31m \u001b[0mouts\u001b[0m\u001b[0;34m=\u001b[0m\u001b[0mevolucion\u001b[0m\u001b[0;34m(\u001b[0m\u001b[0minit_cons\u001b[0m\u001b[0;34m,\u001b[0m\u001b[0mt\u001b[0m\u001b[0;34m)\u001b[0m\u001b[0;34m\u001b[0m\u001b[0;34m\u001b[0m\u001b[0m\n\u001b[0m",
            "\u001b[0;32m<ipython-input-6-cd4b5b4960c0>\u001b[0m in \u001b[0;36mevolucion\u001b[0;34m(init_cons, t)\u001b[0m\n\u001b[1;32m      3\u001b[0m   \u001b[0mouts\u001b[0m\u001b[0;34m=\u001b[0m\u001b[0;34m[\u001b[0m\u001b[0;34m]\u001b[0m\u001b[0;34m\u001b[0m\u001b[0;34m\u001b[0m\u001b[0m\n\u001b[1;32m      4\u001b[0m   \u001b[0;32mfor\u001b[0m \u001b[0ml\u001b[0m \u001b[0;32min\u001b[0m \u001b[0mrange\u001b[0m\u001b[0;34m(\u001b[0m\u001b[0mlen\u001b[0m\u001b[0;34m(\u001b[0m\u001b[0minit_cons\u001b[0m\u001b[0;34m)\u001b[0m\u001b[0;34m)\u001b[0m\u001b[0;34m:\u001b[0m\u001b[0;34m\u001b[0m\u001b[0;34m\u001b[0m\u001b[0m\n\u001b[0;32m----> 5\u001b[0;31m     \u001b[0msalida\u001b[0m\u001b[0;34m=\u001b[0m \u001b[0;34m[\u001b[0m \u001b[0modeint\u001b[0m\u001b[0;34m(\u001b[0m\u001b[0mpqdot\u001b[0m\u001b[0;34m,\u001b[0m \u001b[0mcon\u001b[0m\u001b[0;34m,\u001b[0m \u001b[0mt\u001b[0m\u001b[0;34m,\u001b[0m \u001b[0matol\u001b[0m\u001b[0;34m=\u001b[0m\u001b[0;36m1e-9\u001b[0m\u001b[0;34m,\u001b[0m \u001b[0mrtol\u001b[0m\u001b[0;34m=\u001b[0m\u001b[0;36m1e-8\u001b[0m\u001b[0;34m)\u001b[0m  \u001b[0;32mfor\u001b[0m \u001b[0mcon\u001b[0m \u001b[0;32min\u001b[0m \u001b[0minit_cons\u001b[0m\u001b[0;34m[\u001b[0m\u001b[0ml\u001b[0m\u001b[0;34m]\u001b[0m\u001b[0;34m[\u001b[0m\u001b[0;34m:\u001b[0m\u001b[0mlen\u001b[0m\u001b[0;34m(\u001b[0m\u001b[0minit_cons\u001b[0m\u001b[0;34m[\u001b[0m\u001b[0;36m0\u001b[0m\u001b[0;34m]\u001b[0m\u001b[0;34m)\u001b[0m\u001b[0;34m]\u001b[0m \u001b[0;34m]\u001b[0m\u001b[0;34m\u001b[0m\u001b[0;34m\u001b[0m\u001b[0m\n\u001b[0m\u001b[1;32m      6\u001b[0m     \u001b[0mouts\u001b[0m\u001b[0;34m.\u001b[0m\u001b[0mappend\u001b[0m\u001b[0;34m(\u001b[0m\u001b[0msalida\u001b[0m\u001b[0;34m)\u001b[0m\u001b[0;34m\u001b[0m\u001b[0;34m\u001b[0m\u001b[0m\n\u001b[1;32m      7\u001b[0m     \u001b[0mprint\u001b[0m\u001b[0;34m(\u001b[0m\u001b[0;34m\"Se han calculado {} perturbaciones de {}.\"\u001b[0m\u001b[0;34m.\u001b[0m\u001b[0mformat\u001b[0m\u001b[0;34m(\u001b[0m\u001b[0ml\u001b[0m\u001b[0;34m+\u001b[0m\u001b[0;36m1\u001b[0m\u001b[0;34m,\u001b[0m\u001b[0mlen\u001b[0m\u001b[0;34m(\u001b[0m\u001b[0minit_cons\u001b[0m\u001b[0;34m)\u001b[0m\u001b[0;34m)\u001b[0m\u001b[0;34m)\u001b[0m\u001b[0;34m\u001b[0m\u001b[0;34m\u001b[0m\u001b[0m\n",
            "\u001b[0;32m<ipython-input-6-cd4b5b4960c0>\u001b[0m in \u001b[0;36m<listcomp>\u001b[0;34m(.0)\u001b[0m\n\u001b[1;32m      3\u001b[0m   \u001b[0mouts\u001b[0m\u001b[0;34m=\u001b[0m\u001b[0;34m[\u001b[0m\u001b[0;34m]\u001b[0m\u001b[0;34m\u001b[0m\u001b[0;34m\u001b[0m\u001b[0m\n\u001b[1;32m      4\u001b[0m   \u001b[0;32mfor\u001b[0m \u001b[0ml\u001b[0m \u001b[0;32min\u001b[0m \u001b[0mrange\u001b[0m\u001b[0;34m(\u001b[0m\u001b[0mlen\u001b[0m\u001b[0;34m(\u001b[0m\u001b[0minit_cons\u001b[0m\u001b[0;34m)\u001b[0m\u001b[0;34m)\u001b[0m\u001b[0;34m:\u001b[0m\u001b[0;34m\u001b[0m\u001b[0;34m\u001b[0m\u001b[0m\n\u001b[0;32m----> 5\u001b[0;31m     \u001b[0msalida\u001b[0m\u001b[0;34m=\u001b[0m \u001b[0;34m[\u001b[0m \u001b[0modeint\u001b[0m\u001b[0;34m(\u001b[0m\u001b[0mpqdot\u001b[0m\u001b[0;34m,\u001b[0m \u001b[0mcon\u001b[0m\u001b[0;34m,\u001b[0m \u001b[0mt\u001b[0m\u001b[0;34m,\u001b[0m \u001b[0matol\u001b[0m\u001b[0;34m=\u001b[0m\u001b[0;36m1e-9\u001b[0m\u001b[0;34m,\u001b[0m \u001b[0mrtol\u001b[0m\u001b[0;34m=\u001b[0m\u001b[0;36m1e-8\u001b[0m\u001b[0;34m)\u001b[0m  \u001b[0;32mfor\u001b[0m \u001b[0mcon\u001b[0m \u001b[0;32min\u001b[0m \u001b[0minit_cons\u001b[0m\u001b[0;34m[\u001b[0m\u001b[0ml\u001b[0m\u001b[0;34m]\u001b[0m\u001b[0;34m[\u001b[0m\u001b[0;34m:\u001b[0m\u001b[0mlen\u001b[0m\u001b[0;34m(\u001b[0m\u001b[0minit_cons\u001b[0m\u001b[0;34m[\u001b[0m\u001b[0;36m0\u001b[0m\u001b[0;34m]\u001b[0m\u001b[0;34m)\u001b[0m\u001b[0;34m]\u001b[0m \u001b[0;34m]\u001b[0m\u001b[0;34m\u001b[0m\u001b[0;34m\u001b[0m\u001b[0m\n\u001b[0m\u001b[1;32m      6\u001b[0m     \u001b[0mouts\u001b[0m\u001b[0;34m.\u001b[0m\u001b[0mappend\u001b[0m\u001b[0;34m(\u001b[0m\u001b[0msalida\u001b[0m\u001b[0;34m)\u001b[0m\u001b[0;34m\u001b[0m\u001b[0;34m\u001b[0m\u001b[0m\n\u001b[1;32m      7\u001b[0m     \u001b[0mprint\u001b[0m\u001b[0;34m(\u001b[0m\u001b[0;34m\"Se han calculado {} perturbaciones de {}.\"\u001b[0m\u001b[0;34m.\u001b[0m\u001b[0mformat\u001b[0m\u001b[0;34m(\u001b[0m\u001b[0ml\u001b[0m\u001b[0;34m+\u001b[0m\u001b[0;36m1\u001b[0m\u001b[0;34m,\u001b[0m\u001b[0mlen\u001b[0m\u001b[0;34m(\u001b[0m\u001b[0minit_cons\u001b[0m\u001b[0;34m)\u001b[0m\u001b[0;34m)\u001b[0m\u001b[0;34m)\u001b[0m\u001b[0;34m\u001b[0m\u001b[0;34m\u001b[0m\u001b[0m\n",
            "\u001b[0;32m/usr/local/lib/python3.7/dist-packages/scipy/integrate/odepack.py\u001b[0m in \u001b[0;36modeint\u001b[0;34m(func, y0, t, args, Dfun, col_deriv, full_output, ml, mu, rtol, atol, tcrit, h0, hmax, hmin, ixpr, mxstep, mxhnil, mxordn, mxords, printmessg, tfirst)\u001b[0m\n\u001b[1;32m    243\u001b[0m                              \u001b[0mfull_output\u001b[0m\u001b[0;34m,\u001b[0m \u001b[0mrtol\u001b[0m\u001b[0;34m,\u001b[0m \u001b[0matol\u001b[0m\u001b[0;34m,\u001b[0m \u001b[0mtcrit\u001b[0m\u001b[0;34m,\u001b[0m \u001b[0mh0\u001b[0m\u001b[0;34m,\u001b[0m \u001b[0mhmax\u001b[0m\u001b[0;34m,\u001b[0m \u001b[0mhmin\u001b[0m\u001b[0;34m,\u001b[0m\u001b[0;34m\u001b[0m\u001b[0;34m\u001b[0m\u001b[0m\n\u001b[1;32m    244\u001b[0m                              \u001b[0mixpr\u001b[0m\u001b[0;34m,\u001b[0m \u001b[0mmxstep\u001b[0m\u001b[0;34m,\u001b[0m \u001b[0mmxhnil\u001b[0m\u001b[0;34m,\u001b[0m \u001b[0mmxordn\u001b[0m\u001b[0;34m,\u001b[0m \u001b[0mmxords\u001b[0m\u001b[0;34m,\u001b[0m\u001b[0;34m\u001b[0m\u001b[0;34m\u001b[0m\u001b[0m\n\u001b[0;32m--> 245\u001b[0;31m                              int(bool(tfirst)))\n\u001b[0m\u001b[1;32m    246\u001b[0m     \u001b[0;32mif\u001b[0m \u001b[0moutput\u001b[0m\u001b[0;34m[\u001b[0m\u001b[0;34m-\u001b[0m\u001b[0;36m1\u001b[0m\u001b[0;34m]\u001b[0m \u001b[0;34m<\u001b[0m \u001b[0;36m0\u001b[0m\u001b[0;34m:\u001b[0m\u001b[0;34m\u001b[0m\u001b[0;34m\u001b[0m\u001b[0m\n\u001b[1;32m    247\u001b[0m         \u001b[0mwarning_msg\u001b[0m \u001b[0;34m=\u001b[0m \u001b[0m_msgs\u001b[0m\u001b[0;34m[\u001b[0m\u001b[0moutput\u001b[0m\u001b[0;34m[\u001b[0m\u001b[0;34m-\u001b[0m\u001b[0;36m1\u001b[0m\u001b[0;34m]\u001b[0m\u001b[0;34m]\u001b[0m \u001b[0;34m+\u001b[0m \u001b[0;34m\" Run with full_output = 1 to get quantitative information.\"\u001b[0m\u001b[0;34m\u001b[0m\u001b[0;34m\u001b[0m\u001b[0m\n",
            "\u001b[0;32m<ipython-input-2-e7a4203f90a3>\u001b[0m in \u001b[0;36mpqdot\u001b[0;34m(valpair, tval)\u001b[0m\n\u001b[1;32m      6\u001b[0m     \u001b[0;31m# Retorno de las ecuaciones para las derivads temporales de x, y, px, py, y alpha\u001b[0m\u001b[0;34m\u001b[0m\u001b[0;34m\u001b[0m\u001b[0;34m\u001b[0m\u001b[0m\n\u001b[1;32m      7\u001b[0m     \u001b[0;34m(\u001b[0m\u001b[0mx\u001b[0m\u001b[0;34m,\u001b[0m \u001b[0my\u001b[0m\u001b[0;34m,\u001b[0m \u001b[0mpx\u001b[0m\u001b[0;34m,\u001b[0m \u001b[0mpy\u001b[0m\u001b[0;34m,\u001b[0m \u001b[0malpha\u001b[0m\u001b[0;34m)\u001b[0m \u001b[0;34m=\u001b[0m \u001b[0mtuple\u001b[0m\u001b[0;34m(\u001b[0m\u001b[0mvalpair\u001b[0m\u001b[0;34m)\u001b[0m\u001b[0;34m\u001b[0m\u001b[0;34m\u001b[0m\u001b[0m\n\u001b[0;32m----> 8\u001b[0;31m     \u001b[0;32mreturn\u001b[0m \u001b[0mnp\u001b[0m\u001b[0;34m.\u001b[0m\u001b[0marray\u001b[0m\u001b[0;34m(\u001b[0m\u001b[0;34m[\u001b[0m\u001b[0;34m(\u001b[0m\u001b[0;36m5\u001b[0m\u001b[0;34m/\u001b[0m\u001b[0;36m2\u001b[0m\u001b[0;34m)\u001b[0m\u001b[0;34m*\u001b[0m\u001b[0mpx\u001b[0m\u001b[0;34m,\u001b[0m\u001b[0;34m(\u001b[0m\u001b[0;36m3\u001b[0m\u001b[0;34m/\u001b[0m\u001b[0;36m2\u001b[0m\u001b[0;34m)\u001b[0m\u001b[0;34m*\u001b[0m\u001b[0mpy\u001b[0m\u001b[0;34m+\u001b[0m\u001b[0;34m(\u001b[0m\u001b[0my\u001b[0m\u001b[0;34m**\u001b[0m\u001b[0;36m2\u001b[0m\u001b[0;34m+\u001b[0m\u001b[0mpy\u001b[0m\u001b[0;34m**\u001b[0m\u001b[0;36m2\u001b[0m\u001b[0;34m)\u001b[0m\u001b[0;34m*\u001b[0m\u001b[0mpy\u001b[0m\u001b[0;34m,\u001b[0m\u001b[0;34m-\u001b[0m\u001b[0;34m(\u001b[0m\u001b[0;36m5\u001b[0m\u001b[0;34m/\u001b[0m\u001b[0;36m2\u001b[0m\u001b[0;34m)\u001b[0m\u001b[0;34m*\u001b[0m\u001b[0mx\u001b[0m\u001b[0;34m-\u001b[0m\u001b[0;36m2\u001b[0m\u001b[0;34m*\u001b[0m\u001b[0malpha\u001b[0m\u001b[0;34m*\u001b[0m\u001b[0;34m(\u001b[0m\u001b[0;36m2\u001b[0m\u001b[0;34m*\u001b[0m\u001b[0mx\u001b[0m\u001b[0;34m-\u001b[0m\u001b[0my\u001b[0m\u001b[0;34m)\u001b[0m\u001b[0;34m**\u001b[0m\u001b[0;36m3\u001b[0m\u001b[0;34m,\u001b[0m\u001b[0;34m-\u001b[0m\u001b[0;34m(\u001b[0m\u001b[0;36m3\u001b[0m\u001b[0;34m/\u001b[0m\u001b[0;36m2\u001b[0m\u001b[0;34m)\u001b[0m\u001b[0;34m*\u001b[0m\u001b[0my\u001b[0m\u001b[0;34m-\u001b[0m\u001b[0;34m(\u001b[0m\u001b[0my\u001b[0m\u001b[0;34m**\u001b[0m\u001b[0;36m2\u001b[0m\u001b[0;34m+\u001b[0m\u001b[0mpy\u001b[0m\u001b[0;34m**\u001b[0m\u001b[0;36m2\u001b[0m\u001b[0;34m)\u001b[0m\u001b[0;34m*\u001b[0m\u001b[0my\u001b[0m\u001b[0;34m+\u001b[0m\u001b[0malpha\u001b[0m\u001b[0;34m*\u001b[0m\u001b[0;34m(\u001b[0m\u001b[0;36m2\u001b[0m\u001b[0;34m*\u001b[0m\u001b[0mx\u001b[0m\u001b[0;34m-\u001b[0m\u001b[0my\u001b[0m\u001b[0;34m)\u001b[0m\u001b[0;34m**\u001b[0m\u001b[0;36m3\u001b[0m\u001b[0;34m,\u001b[0m\u001b[0;36m0\u001b[0m\u001b[0;34m]\u001b[0m\u001b[0;34m)\u001b[0m\u001b[0;34m.\u001b[0m\u001b[0mT\u001b[0m\u001b[0;34m\u001b[0m\u001b[0;34m\u001b[0m\u001b[0m\n\u001b[0m",
            "\u001b[0;31mKeyboardInterrupt\u001b[0m: "
          ]
        }
      ]
    },
    {
      "cell_type": "markdown",
      "metadata": {
        "id": "pM6mNFeEFe2I"
      },
      "source": [
        "Luego se hallan los cortes de la sección de Poincaré:"
      ]
    },
    {
      "cell_type": "code",
      "metadata": {
        "colab": {
          "background_save": true
        },
        "id": "zLdqLoawFkwa"
      },
      "source": [
        "# Cálculos de los cortes en las secciones\n",
        "cortes=hallar_Cortes(outs,alpha)"
      ],
      "execution_count": null,
      "outputs": []
    },
    {
      "cell_type": "markdown",
      "metadata": {
        "id": "WgwVHCmTFzrk"
      },
      "source": [
        "Gráficas a blanco y negro de las distintas secciones de Poincaré para las perturbaciones de interés."
      ]
    },
    {
      "cell_type": "code",
      "metadata": {
        "colab": {
          "background_save": true
        },
        "id": "hXI30dNZFyQq"
      },
      "source": [
        "# Graficación de las distintas secciones para las nuevas perturbaciones\n",
        "for l in range(len(outs)):\n",
        "  fig2 = figure(2, figsize=(8,8))\n",
        "  for ii in range(len(outs[0])):\n",
        "    scatter(np.array(cortes[l][ii][0]), np.array(cortes[l][ii][1]), s=0.1,color=\"black\")\n",
        "  title(r\"$\\alpha={}$\".format(np.round(alpha[l],4)))\n",
        "  ylabel(\"py\")\n",
        "  xlabel(\"y\") \n",
        "  plt.savefig(\"seccion_Poincare_bn_{}.png\".format(np.round(alpha[l],4)))\n",
        "  plt.show()"
      ],
      "execution_count": null,
      "outputs": []
    },
    {
      "cell_type": "markdown",
      "metadata": {
        "id": "Fx_bnh5KGLZG"
      },
      "source": [
        "Gráfica en acercamiento para la sección de Poincaré para $\\alpha=0.0212$ y selección cualitativa de l regiones hiperbólicas en rojo."
      ]
    },
    {
      "cell_type": "code",
      "metadata": {
        "colab": {
          "background_save": true
        },
        "id": "_FeqXKStGKjw"
      },
      "source": [
        "# Elección de la sección a acercar y la ubicación cualitativa de las regiones hiperbólicas\n",
        "l=-0\n",
        "py_fixl=[0.31,0,0,1.05,1.05]\n",
        "y_fixl=[0,1.05,-1.05,1.25,-1.25]\n",
        "\n",
        "# Graficación del scatter de cortes para la sección\n",
        "fig2 = figure(2, figsize=(8,8))\n",
        "for ii in range(len(outs[0])):\n",
        "  scatter(np.array(cortes[l][ii][0]), np.array(cortes[l][ii][1]), s=1.5,color=\"black\")\n",
        "\n",
        "# Graficación de las regiones hiperbólicas\n",
        "for j in range(len(y_fixl)):\n",
        "  y_fix=y_fixl[j]\n",
        "  py_fix=py_fixl[j]\n",
        "  plt.text(y_fix+0.05,py_fix+0.05,\"{}\".format(j+1), color=\"red\", fontsize=16 )\n",
        "  d=0.05\n",
        "  plt.plot(np.linspace(y_fix-d,y_fix+d,20), np.ones(20)*(py_fix+d), color=\"red\")\n",
        "  plt.plot(np.linspace(y_fix-d,y_fix+d,20), np.ones(20)*(py_fix-d), color=\"red\")\n",
        "  plt.plot(np.ones(20)*(y_fix-d),np.linspace(py_fix-d,py_fix+d,20),  color=\"red\")\n",
        "  plt.plot( np.ones(20)*(y_fix+d), np.linspace(py_fix-d,py_fix+d,20), color=\"red\")\n",
        "xlim(-1.5,1.5)\n",
        "ylim(-0.25,1.75) \n",
        "ylabel(\"py\")\n",
        "xlabel(\"y\") \n",
        "print(alpha[l])\n",
        "plt.savefig(\"seccion_Poincare_zoom_{}.png\".format(np.round(alpha[l],4)))\n",
        "plt.show()"
      ],
      "execution_count": null,
      "outputs": []
    },
    {
      "cell_type": "markdown",
      "metadata": {
        "id": "fHQlNpLMIVNs"
      },
      "source": [
        "Gráfica en acercamiento para las secciones de Poincaré para $\\alpha=0.0680$ y $\\alpha=0.0753$ para la ubicación de los toros."
      ]
    },
    {
      "cell_type": "code",
      "metadata": {
        "colab": {
          "background_save": true
        },
        "id": "GfeKFRzYH920"
      },
      "source": [
        "# Creación de la figura\n",
        "fig2 = figure(2, figsize=(16,8))\n",
        "\n",
        "# Graficación del acercamiento para 0.0680\n",
        "subplot(1,2,1)\n",
        "l=1\n",
        "for ii in range(len(outs[0])):\n",
        "  scatter(np.array(cortes[l][ii][0]), np.array(cortes[l][ii][1]), s=1.5,color=\"black\")\n",
        "title(r\"$a)$\")\n",
        "xlim(-1,1)\n",
        "ylim(0.5,2) \n",
        "ylabel(\"py\")\n",
        "xlabel(\"y\") \n",
        "\n",
        "# Graficación del acercamiento para 0.0753\n",
        "subplot(1,2,2)\n",
        "l=2\n",
        "for ii in range(len(outs[0])):\n",
        "  scatter(np.array(cortes[l][ii][0]), np.array(cortes[l][ii][1]), s=1.5,color=\"black\")\n",
        "title(r\"$b)$\")\n",
        "xlim(-1,1)\n",
        "ylim(0.5,2) \n",
        "ylabel(\"py\")\n",
        "xlabel(\"y\") \n",
        "\n",
        "plt.savefig(\"seccion_Poincare_fractal.png\")\n",
        "plt.show()"
      ],
      "execution_count": null,
      "outputs": []
    },
    {
      "cell_type": "markdown",
      "metadata": {
        "id": "T06TFb9UJqIm"
      },
      "source": [
        "Gráfica en acercamiento para la sección de Poincaré para $\\alpha=0.0788$ para la ubicación de los toros."
      ]
    },
    {
      "cell_type": "code",
      "metadata": {
        "colab": {
          "background_save": true
        },
        "id": "-9Kaqk92J1Q_"
      },
      "source": [
        "# Creación de la figura\n",
        "fig2 = figure(2, figsize=(8,9))\n",
        "\n",
        "# Graficación del primer toro\n",
        "l=3\n",
        "subplot(2,1,1)\n",
        "for ii in range(len(outs[0])):\n",
        "  scatter(np.array(cortes[l][ii][0]), np.array(cortes[l][ii][1]), s=1.5,color=\"black\")\n",
        "title(r\"$b)$\")\n",
        "xlim(0.2,1.25)\n",
        "ylim(0.45,1.1) \n",
        "ylabel(\"py\")\n",
        "xlabel(\"y\") \n",
        "\n",
        "# Graficación del segundo toro\n",
        "subplot(2,1,2)\n",
        "for ii in range(len(outs[0])):\n",
        "  scatter(np.array(cortes[l][ii][0]), np.array(cortes[l][ii][1]), s=1.5,color=\"black\")\n",
        "title(r\"$c)$\")\n",
        "xlim(-0.6,0.6)\n",
        "ylim(1.5,2.1) \n",
        "ylabel(\"py\")\n",
        "xlabel(\"y\") \n",
        "plt.savefig(\"seccion_Poincare_zoom_{}.png\".format(np.round(alpha[l],4)))\n",
        "plt.show()"
      ],
      "execution_count": null,
      "outputs": []
    },
    {
      "cell_type": "markdown",
      "metadata": {
        "id": "cFCJhb_bhF9s"
      },
      "source": [
        "# Nudo homoclínico\n",
        "\n",
        "\n",
        "> Se revisó el comportamiento de los puntos en la región 1 hiperbólica de la sección para $\\alpha$=0.0212.\n",
        "\n",
        "\n",
        "> Se define la función nudo_homoclinico que toma un valor de $\\alpha$ y la ubicación aproximada de un punto fijo hiperbólico y halla los cortes de la sección de Poinacré correspondientes a condiciones iniciales generadas en una región cuadrada de lado 0.10 en la vecidad del punto fijo ingresado. \n"
      ]
    },
    {
      "cell_type": "code",
      "metadata": {
        "id": "6Z7ayBaILXaT"
      },
      "source": [
        "def nudo_homoclinico(alpha, yfijo, pyfijo, tmax):\n",
        "\n",
        "  # Condiciones\n",
        "  t = arange(0, tmax, 0.01)\n",
        "  a=np.array([alpha])\n",
        "  n=100\n",
        "  ener=10\n",
        "\n",
        "  # Cálculo de condiciones iniciales\n",
        "  y=np.random.rand(n)*0.01-0.005+yfijo\n",
        "  py=np.random.rand(n)*0.01-0.005+pyfijo\n",
        "  px=np.sqrt((4/5)*(ener-(3/4)*(y**2+py**2)-(1/4)*(y**2+py**2)**2-(alpha/4)*y**4))\n",
        "  init_cons=[]\n",
        "  for l in range(len(y)):\n",
        "      init_cons.append([0,y[l],px[l],py[l],alpha])\n",
        "\n",
        "  # Evolución de la trayectoria    \n",
        "  outs= [ odeint(pqdot, con, t, atol=1e-9, rtol=1e-8)  for con in init_cons[:len(init_cons)] ]\n",
        "\n",
        "  # Cálculo de cortes\n",
        "  calpha=[]\n",
        "  for ii in range(len(outs)):\n",
        "      xcrossings = findcrossings(outs[ii][:,0], outs[ii][:,2])\n",
        "      yints = [.5*(outs[ii][cross, 1] + outs[ii][cross+1, 1]) for cross in xcrossings]\n",
        "      pyints = [.5*(outs[ii][cross, 3] + outs[ii][cross+1, 3]) for cross in xcrossings]\n",
        "      calpha.append([yints,pyints])\n",
        "  return calpha"
      ],
      "execution_count": null,
      "outputs": []
    },
    {
      "cell_type": "markdown",
      "metadata": {
        "id": "2Nn-LPSlMw1F"
      },
      "source": [
        "Condiciones del punto fijo hiperbólico analizado, donde $a$ es el valor de $\\alpha$, y $y_{fix},p_{y_{fix}}$ es la ubicación tentativa del punto fijo."
      ]
    },
    {
      "cell_type": "code",
      "metadata": {
        "id": "Tsqa3k-FMv-i"
      },
      "source": [
        "#Condiciones y cálculo del corte\n",
        "a=0.0212\n",
        "py_fix=0.31\n",
        "y_fix=0\n",
        "cortes0=(nudo_homoclinico(a, y_fix, py_fix, 500))\n",
        "\n",
        "#Cálculo del índice máximo para los cortes\n",
        "max=0\n",
        "for j in range(len(cortes0)):\n",
        "  new_max=len(cortes0[j][0])\n",
        "  if new_max>max:\n",
        "    max=new_max\n",
        "index=np.linspace(0,max-1,max)  "
      ],
      "execution_count": null,
      "outputs": []
    },
    {
      "cell_type": "code",
      "metadata": {
        "id": "C5xkp1h3MqK2"
      },
      "source": [
        "# Creación de la figura y fijación de los colores\n",
        "fig = plt.figure(figsize = (10, 7))\n",
        "ax = plt.axes(projection =\"3d\")\n",
        "norm = mpl.colors.Normalize(vmin=index.min(), vmax=index.max())\n",
        "cmap = mpl.cm.ScalarMappable(norm=norm, cmap=mpl.cm.jet)\n",
        "cmap.set_array([])\n",
        "\n",
        "# Cálculo aproximado del punto fijo hiperbólico\n",
        "yfinal=0\n",
        "pyfinal=0\n",
        "cantidad=np.zeros(max)\n",
        "\n",
        "# Representación 3D de los cortes \n",
        "for ii in range(len(cortes0)):\n",
        "  for k in range(len(cortes0[ii][0])):\n",
        "    ypoint=cortes0[ii][0][k]\n",
        "    pypoint=cortes0[ii][1][k]\n",
        "    if ypoint>y_fix-0.1 and ypoint<y_fix+0.1 and pypoint>py_fix-0.1 and pypoint<py_fix+0.1:\n",
        "      cantidad[k]=cantidad[k]+1\n",
        "      col=cmap.to_rgba(index)[k]\n",
        "      yfinal=ypoint\n",
        "      pyfinal=pypoint\n",
        "      ax.scatter3D(k,ypoint, pypoint, s=10,color=col)\n",
        "ax.set_xlabel(\"Número de cruce\")\n",
        "ax.set_ylabel(\"y\")\n",
        "ax.set_zlabel(\"py\")\n",
        "print(\"El punto fijo hiperbólico es cercano a y={} y py={}\".format(yfinal,pyfinal))\n",
        "print(\"En este acercamiento el putno fijo depende de la aleatoriedad de las condciones iniciales\")\n",
        "print(\"Número de puntos en cada cruce:{}\".format(cantidad))\n",
        "plt.savefig(\"nudo_homoclinico3d_{}.png\".format(np.round(a,4)))\n",
        "plt.show()"
      ],
      "execution_count": null,
      "outputs": []
    },
    {
      "cell_type": "markdown",
      "metadata": {
        "id": "o1qmJN07hKfr"
      },
      "source": [
        "#Coeficientes de Lyapunov\n",
        "\n",
        "\n",
        "> Definición de la función lyapunov que retorna el número de aplicación del mapa $T$ y el logaritmo de la distancia $\\log(\\delta y)$ entre dos trayectorias inicialmente contiguas a $\\delta y_0=1.0\\times 10^{-5}$ para $\\alpha=0.095$ y una condición inicial indexada por $w$\n",
        " en la región caótica.\n"
      ]
    },
    {
      "cell_type": "code",
      "metadata": {
        "id": "J1Hyh095Q5-P"
      },
      "source": [
        "def lyapunov(alpha, delta0,w):\n",
        "  # Parámetros\n",
        "  t = arange(0, 100.0, 0.1)\n",
        "  a=np.array([alpha])\n",
        "  l1=2\n",
        "  l2=6\n",
        "  prop=np.linspace(0,0.9999,l2)\n",
        "\n",
        "  # Condicioens iniciales\n",
        "  init=condiciones(a,delta0,l1,prop)\n",
        "  I1=0.5*(init[0][w][1]**2+init[0][w][3]**2)\n",
        "  I2=0.5*(init[0][w+l2][1]**2+init[0][w][3]**2)\n",
        "  print(\"La diferencia inicial es {}\".format(abs(init[0][w][1]-init[0][w+l2][1])))\n",
        "\n",
        "  # Evolución temporal y cortes\n",
        "  out=evolucion(init,t)\n",
        "  cortes0=hallar_Cortes(out,a)\n",
        "\n",
        "  # Cálculo de diferencias entre trayectorias adyacentes\n",
        "  m=min(len(cortes0[0][w+l2][0]),len(cortes0[0][w][0]))\n",
        "  logdy=log(abs(np.array(cortes0[0][w+l2][0][:m])-np.array(cortes0[0][w][0][:m])))\n",
        "  N=np.linspace(0,len(logdy)-1,len(logdy))\n",
        "  return N,logdy"
      ],
      "execution_count": null,
      "outputs": []
    },
    {
      "cell_type": "markdown",
      "metadata": {
        "id": "AtP4aupqSu-V"
      },
      "source": [
        "Implementación para $\\alpha=0.095$.\n"
      ]
    },
    {
      "cell_type": "code",
      "metadata": {
        "id": "bFtj1XuFSsLU"
      },
      "source": [
        "# Cálculo de los pares ordenados\n",
        "N,logdy=lyapunov(0.0950,1E-5,2)  "
      ],
      "execution_count": null,
      "outputs": []
    },
    {
      "cell_type": "code",
      "metadata": {
        "id": "AF2WgNalSxGe"
      },
      "source": [
        "# Creación de la figura\n",
        "figure(figsize=(8,8))\n",
        "f,(a0,a1)=plt.subplots(2,1,gridspec_kw={'height_ratios':[3,1]})\n",
        "\n",
        "# Graficación del primer subplot\n",
        "a0.scatter(N[:50], logdy[:50], s=5)\n",
        "# Linealización\n",
        "def test_func(x, a, b):\n",
        "    return a*x+b    \n",
        "params, params_covariance = optimize.curve_fit(test_func, N[:50], logdy[:50],p0=[2, 2])\n",
        "a0.plot(N[:50], test_func(N[:50], params[0], params[1]))\n",
        "a0.set_ylabel(r\"$log[\\delta y]$\")\n",
        "\n",
        "#Graficación del segundo subplot\n",
        "a1.plot(N[:50], abs(logdy[:50]-test_func(N[:50], params[0], params[1])))\n",
        "a1.set_ylabel(\"Residuo\")\n",
        "a1.set_xlabel(r\"$N$\")\n",
        "f.savefig(\"coeficientes_lyapunov.png\")\n",
        "\n",
        "print(\"Se obtuvo una pendiente de {}, con punto de corte en {} y matriz de covarianza {}\".format(params[0], params[1], params_covariance))"
      ],
      "execution_count": null,
      "outputs": []
    }
  ]
}